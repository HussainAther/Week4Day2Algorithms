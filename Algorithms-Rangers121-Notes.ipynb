{
 "cells": [
  {
   "cell_type": "markdown",
   "metadata": {},
   "source": [
    "# Algorithms and Time Complexity"
   ]
  },
  {
   "cell_type": "markdown",
   "metadata": {},
   "source": [
    "## Tasks Today:\n",
    " \n",
    "1) <b>In-Place Algorithms</b> <br>\n",
    " &nbsp;&nbsp;&nbsp;&nbsp; a) Syntax <br>\n",
    " &nbsp;&nbsp;&nbsp;&nbsp; a) Out of Place Algorithm <br>\n",
    " &nbsp;&nbsp;&nbsp;&nbsp; b) In-Class Exercise #1 <br>\n",
    "2) <b>Two Pointers</b> <br>\n",
    "3) <b>Linked Lists</b> <br>\n",
    "4) <b>Merge Sort</b> <br>\n",
    " &nbsp;&nbsp;&nbsp;&nbsp; a) Video on Algorithms <br>\n",
    " &nbsp;&nbsp;&nbsp;&nbsp; b) How it Works <br>\n",
    "5) <b>Exercises</b> <br>\n",
    " &nbsp;&nbsp;&nbsp;&nbsp; a) Exercise #1 - Reverse a List in Place Using an In-Place Algorithm <br>\n",
    " &nbsp;&nbsp;&nbsp;&nbsp; b) Exercise #2 - Find Distinct Words <br>\n",
    " &nbsp;&nbsp;&nbsp;&nbsp; c) Exercise #3 - Write a program to implement a Linear Search Algorithm. <br>"
   ]
  },
  {
   "cell_type": "markdown",
   "metadata": {},
   "source": [
    "## In-Place Algorithms"
   ]
  },
  {
   "cell_type": "markdown",
   "metadata": {},
   "source": [
    "#### Syntax"
   ]
  },
  {
   "cell_type": "code",
   "execution_count": null,
   "metadata": {},
   "outputs": [],
   "source": [
    "#swap locations by index in a list\n",
    "#sometimes known as a swap algorithm\n",
    "# arr[i], arr[i+1] = arr[i+1], arr[i]\n",
    "\n"
   ]
  },
  {
   "cell_type": "markdown",
   "metadata": {},
   "source": [
    "#### Out of Place Algorithm"
   ]
  },
  {
   "cell_type": "code",
   "execution_count": null,
   "metadata": {},
   "outputs": [],
   "source": [
    "# not swapping, reversing the list\n",
    "# But also copies to another place in memory\n",
    "\n"
   ]
  },
  {
   "cell_type": "markdown",
   "metadata": {},
   "source": [
    "#### In-Class Exercise #1 <br>\n",
    "<p>Write a function that takes in four arguments (list, index1, index2, index3), and swaps those three positions in the list passed in.</p>"
   ]
  },
  {
   "cell_type": "code",
   "execution_count": 1,
   "metadata": {},
   "outputs": [],
   "source": [
    "def swap_positions(lst, index1, index2, index3):\n",
    "    lst[index1], lst[index2], lst[index3] = lst[index3], lst[index1], lst[index2]\n"
   ]
  },
  {
   "cell_type": "markdown",
   "metadata": {},
   "source": [
    "## Two Pointers"
   ]
  },
  {
   "cell_type": "markdown",
   "metadata": {},
   "source": [
    "#### Syntax"
   ]
  },
  {
   "cell_type": "code",
   "execution_count": null,
   "metadata": {},
   "outputs": [],
   "source": [
    "# alist[left], alist[right] = alist[right], alist[left]\n",
    "# use two pointesr to swap, can use a while loop in most cases\n",
    "# the list must be sorted\n",
    "\n"
   ]
  },
  {
   "cell_type": "markdown",
   "metadata": {},
   "source": [
    "#### Video of Algorithms <br>\n",
    "<p>Watch the video about algorithms.</p>\n",
    "\n",
    "https://www.youtube.com/watch?v=Q9HjeFD62Uk\n",
    "\n",
    "https://www.youtube.com/watch?v=kPRA0W1kECg\n",
    "\n",
    "https://www.youtube.com/watch?v=ZZuD6iUe3Pc"
   ]
  },
  {
   "cell_type": "markdown",
   "metadata": {},
   "source": [
    "# Sorting Algorithms"
   ]
  },
  {
   "cell_type": "code",
   "execution_count": null,
   "metadata": {},
   "outputs": [],
   "source": [
    "# Time complexity\n",
    "# how many actions have to happen per itms it akes as inputs\n"
   ]
  },
  {
   "cell_type": "markdown",
   "metadata": {},
   "source": [
    "#### Bubble Sort\n",
    "\n",
    "Worst Case: O(n^2) Time - O(1) Space"
   ]
  },
  {
   "cell_type": "code",
   "execution_count": null,
   "metadata": {},
   "outputs": [],
   "source": [
    "# Best Case Linear\n",
    "# Worst Case Quadratic\n",
    "\n"
   ]
  },
  {
   "cell_type": "markdown",
   "metadata": {},
   "source": [
    "##### Insertion Sort\n",
    "\n",
    "Worst Case: O(n^2) time - O(1)space"
   ]
  },
  {
   "cell_type": "code",
   "execution_count": null,
   "metadata": {},
   "outputs": [],
   "source": []
  },
  {
   "cell_type": "markdown",
   "metadata": {},
   "source": [
    "## Merge Sort"
   ]
  },
  {
   "cell_type": "markdown",
   "metadata": {},
   "source": [
    "#### How it Works"
   ]
  },
  {
   "cell_type": "code",
   "execution_count": 17,
   "metadata": {},
   "outputs": [
    {
     "name": "stdout",
     "output_type": "stream",
     "text": [
      "Splitting [100, 88, 22, 55, 44, 1, 34, 66]\n",
      "Splitting [100, 88, 22, 55]\n",
      "Splitting [100, 88]\n",
      "Splitting [100]\n",
      "Merged: [100]\n",
      "Splitting [88]\n",
      "Merged: [88]\n",
      "Merged: [100, 88]\n",
      "Splitting [22, 55]\n",
      "Splitting [22]\n",
      "Merged: [22]\n",
      "Splitting [55]\n",
      "Merged: [55]\n",
      "Merged: [22, 55]\n",
      "Merged: [100, 88, 22, 55]\n",
      "Splitting [44, 1, 34, 66]\n",
      "Splitting [44, 1]\n",
      "Splitting [44]\n",
      "Merged: [44]\n",
      "Splitting [1]\n",
      "Merged: [1]\n",
      "Merged: [44, 1]\n",
      "Splitting [34, 66]\n",
      "Splitting [34]\n",
      "Merged: [34]\n",
      "Splitting [66]\n",
      "Merged: [66]\n",
      "Merged: [34, 66]\n",
      "Merged: [44, 1, 34, 66]\n",
      "Merged: [100, 88, 22, 55, 44, 1, 34, 66]\n"
     ]
    },
    {
     "data": {
      "text/plain": [
       "[100, 88, 22, 55, 44, 1, 34, 66]"
      ]
     },
     "execution_count": 17,
     "metadata": {},
     "output_type": "execute_result"
    }
   ],
   "source": [
    "# Step 1: Split Everything into its own group\n",
    "# Step 2: From left to right merge two groups together\n",
    "# STep 3: While merging, place each item in its correct position within the merged group\n",
    "# Step 4: Repeat step 3 until one group is left\n",
    "from random import randint\n",
    "my_array = [100, 88, 22, 55, 44, 1, 34, 66]\n",
    "nums = [randint(0, 20) for i in range(9)]\n",
    "\n",
    "def merge_sort(alist):\n",
    "    print(\"Splitting\", alist)\n",
    "    \n",
    "    # Split everything into its own group as equal as possible. \n",
    "    if len(alist) > 1:\n",
    "        mid = len(alist) // 2\n",
    "        left_half = alist[:mid]\n",
    "        right_half = alist[mid:]\n",
    "    \n",
    "        merge_sort(left_half)\n",
    "        merge_sort(right_half)\n",
    "\n",
    "        # index pointers for list\n",
    "        l = 0 # left half pointer\n",
    "        r = 0 # right half pointer\n",
    "        m = 0 # main array pointer\n",
    "        \n",
    "        # step 2 compare left half with right half\n",
    "        while l < len(left_half) and r > len(right_half):\n",
    "            if left_half[l] < right_half[r]:\n",
    "                alist = left_half[l]\n",
    "            else:\n",
    "                alist[m] = right_half[r]\n",
    "                r += 1\n",
    "            m += 1\n",
    "            \n",
    "        # step 3 while merging, place items in correct position \n",
    "        while l < len(left_half): # while we iterate through the left half of the array, \n",
    "            alist[m] = left_half[l] # set the list element to that element in that list \n",
    "            l += 1 # move to the next element \n",
    "            m += 1 # move to the left element\n",
    "            \n",
    "        while r < len(right_half):\n",
    "            alist[m] = right_half[r]\n",
    "            r += 1\n",
    "            m += 1\n",
    "    print(\"Merged:\", alist)\n",
    "    return alist\n",
    "                \n",
    "        \n",
    "merge_sort(my_array)"
   ]
  },
  {
   "cell_type": "markdown",
   "metadata": {},
   "source": [
    "# Binary Search\n",
    "\n",
    "The Binary Search algorithm works by finding the number in the middle of a given array and comparing it to the target. Given that the array is sorted\n",
    "\n",
    "* The worst case run time for this algorithm is `O(log(n))`"
   ]
  },
  {
   "cell_type": "code",
   "execution_count": 19,
   "metadata": {},
   "outputs": [
    {
     "data": {
      "text/plain": [
       "1"
      ]
     },
     "execution_count": 19,
     "metadata": {},
     "output_type": "execute_result"
    }
   ],
   "source": [
    "def binary_search(array, target, left, right):\n",
    "    while left <= right:\n",
    "        mid = (left + right) // 2\n",
    "        if array[mid] == target:\n",
    "            return mid\n",
    "        elif array[mid] < target:\n",
    "            left = mid + 1\n",
    "        else:\n",
    "            right = mid - 1\n",
    "    return -1\n",
    "\n",
    "def binary_helper(array, target):\n",
    "    return binary_search(array, target, 0, len(array)-1)\n",
    "\n",
    "binary_helper([1, 22, 34, 44, 55, 66, 77, 100], 22)\n",
    "\n"
   ]
  },
  {
   "cell_type": "markdown",
   "metadata": {},
   "source": [
    "# Exercises"
   ]
  },
  {
   "cell_type": "markdown",
   "metadata": {},
   "source": [
    "### Exercise #1 <br>\n",
    "<p>Reverse the list below in-place using an in-place algorithm.<br>For extra credit: Reverse the strings at the same time.</p>"
   ]
  },
  {
   "cell_type": "code",
   "execution_count": 37,
   "metadata": {},
   "outputs": [
    {
     "name": "stdout",
     "output_type": "stream",
     "text": [
      "['.', 'ecnetnes', 'a', 'si', 'siht']\n"
     ]
    }
   ],
   "source": [
    "words = ['this' , 'is', 'a', 'sentence', '.']\n",
    "\n",
    "def reverse_list_in_place(elements):\n",
    "    \"\"\"\n",
    "    Use an in-place algorithm for reversing a list in place, handling different data types.\n",
    "    \"\"\"\n",
    "    l = 0\n",
    "    r = len(elements) - 1\n",
    "\n",
    "    while l < r:\n",
    "        # Swap the elements\n",
    "        elements[l], elements[r] = elements[r], elements[l]\n",
    "\n",
    "        # Reverse the strings within each element if it's a non-empty string type\n",
    "        if isinstance(elements[l], str) and elements[l]:\n",
    "            elements[l] = elements[l][::-1]\n",
    "        if isinstance(elements[r], str) and elements[r]:\n",
    "            elements[r] = elements[r][::-1]\n",
    "\n",
    "        l += 1\n",
    "        r -= 1\n",
    "\n",
    "# Example usage\n",
    "words = ['this', 'is', 'a', 'sentence', '.']\n",
    "reverse_list_in_place(words)\n",
    "print(words)\n"
   ]
  },
  {
   "cell_type": "markdown",
   "metadata": {},
   "source": [
    "### Exercise #2 <br>\n",
    "<p>Create a function that counts how many distinct words are in the string below, then outputs a dictionary with the words as the key and the value as the amount of times that word appears in the string.<br>Should output:<br>{'a': 5,<br>\n",
    " 'abstract': 1,<br>\n",
    " 'an': 3,<br>\n",
    " 'array': 2, ... etc...</p>"
   ]
  },
  {
   "cell_type": "code",
   "execution_count": 53,
   "metadata": {},
   "outputs": [
    {
     "data": {
      "text/plain": [
       "{'in': 1,\n",
       " 'computing,': 1,\n",
       " 'a': 5,\n",
       " 'hash': 4,\n",
       " 'table': 2,\n",
       " 'map': 2,\n",
       " 'is': 1,\n",
       " 'data': 2,\n",
       " 'structure': 2,\n",
       " 'which': 2,\n",
       " 'implements': 1,\n",
       " 'an': 3,\n",
       " 'associative': 1,\n",
       " 'array': 2,\n",
       " 'abstract': 1,\n",
       " 'type,': 1,\n",
       " 'that': 1,\n",
       " 'can': 2,\n",
       " 'keys': 1,\n",
       " 'to': 2,\n",
       " 'values.': 1,\n",
       " 'uses': 1,\n",
       " 'function': 1,\n",
       " 'compute': 1,\n",
       " 'index': 1,\n",
       " 'into': 1,\n",
       " 'of': 1,\n",
       " 'buckets': 1,\n",
       " 'or': 1,\n",
       " 'slots': 1,\n",
       " 'from': 1,\n",
       " 'the': 1,\n",
       " 'desired': 1,\n",
       " 'value': 1,\n",
       " 'be': 1,\n",
       " 'found': 1}"
      ]
     },
     "execution_count": 53,
     "metadata": {},
     "output_type": "execute_result"
    }
   ],
   "source": [
    "import re\n",
    "\n",
    "a_text = 'In computing, a hash table hash map is a data structure which implements an associative array abstract data type, a structure that can map keys to values. A hash table uses a hash function to compute an index into an array of buckets or slots from which the desired value can be found'\n",
    "def count_distinct_words(a_text):\n",
    "    \"\"\"\n",
    "    Count the distinct words in a text using a python dictionary. \n",
    "    \"\"\"\n",
    "    \n",
    "    # Would you like to use Regex instead? \n",
    "    # Instead of stripping punctuation marks below using .strip(), we could use \n",
    "    # Regex to remove punctuation marks and anything else we don't need. \n",
    "    lookforthis = re.compile(r'[^\\w\\s]')\n",
    "    a_text = lookforthis.sub('', a_text)\n",
    "    \n",
    "    # Split the text into individual words\n",
    "    words = a_text.split()\n",
    "\n",
    "    # Create an empty dictionary to store word frequencies\n",
    "    word_counts = {}\n",
    "\n",
    "    # Iterate over each word in the list\n",
    "    for word in words:\n",
    "        # Remove any punctuation marks and spaces from the word\n",
    "        word = word.strip(\",.!?-/ \")\n",
    "        word = word.lower() # Make every word lowercase to handle dupliactes. \n",
    "\n",
    "        # Increment the count for the word in the dictionary\n",
    "        word_counts[word] = word_counts.get(word, 0) + 1\n",
    "\n",
    "    return word_counts\n",
    "\n",
    "count_distinct_words(a_text)"
   ]
  },
  {
   "cell_type": "code",
   "execution_count": 42,
   "metadata": {},
   "outputs": [
    {
     "data": {
      "image/png": "[encoded data removed]",
      "text/plain": [
       "<Figure size 640x480 with 1 Axes>"
      ]
     },
     "metadata": {},
     "output_type": "display_data"
    }
   ],
   "source": [
    "import matplotlib.pyplot as plt\n",
    "\n",
    "def visualize_word_frequencies(word_counts):\n",
    "    \"\"\"\n",
    "    Visualize word frequencies using a bar chart.\n",
    "    \"\"\"\n",
    "    words = list(word_counts.keys())\n",
    "    frequencies = list(word_counts.values())\n",
    "\n",
    "    plt.bar(words, frequencies)\n",
    "    plt.xlabel('Words')\n",
    "    plt.ylabel('Frequency')\n",
    "    plt.title('Word Frequencies')\n",
    "    plt.xticks(rotation=90)\n",
    "    plt.show()\n",
    "    \n",
    "visualize_word_frequencies(count_distinct_words(a_text))"
   ]
  },
  {
   "cell_type": "code",
   "execution_count": 51,
   "metadata": {},
   "outputs": [
    {
     "data": {
      "text/plain": [
       "({'a': 3, 'table': 3, 'map': 1, 'function': 1}, 4)"
      ]
     },
     "execution_count": 51,
     "metadata": {},
     "output_type": "execute_result"
    }
   ],
   "source": [
    "def examine_co_occurrences(a_text, target_word):\n",
    "    \"\"\"\n",
    "    Examine co-occurrences of a target word with other words in the text.\n",
    "    \"\"\"\n",
    "    # Count the distinct words in the text\n",
    "    word_counts = count_distinct_words(a_text)\n",
    "\n",
    "    # Retrieve the count of the target word\n",
    "    target_count = word_counts.get(target_word.lower(), 0)\n",
    "\n",
    "    # Create an empty dictionary to store co-occurrence counts\n",
    "    co_occurrence_counts = {}\n",
    "\n",
    "    # Split the text into individual words\n",
    "    words = a_text.split()\n",
    "\n",
    "    # Iterate over each word in the list\n",
    "    for i in range(len(words)):\n",
    "        word = words[i]\n",
    "        word = word.strip(\",.!? \")\n",
    "        word = word.lower()\n",
    "\n",
    "        # Check if the word is the target word\n",
    "        if word == target_word.lower():\n",
    "            # Check the surrounding words for co-occurrences\n",
    "            left_word = words[i-1].lower() if i > 0 else None\n",
    "            right_word = words[i+1].lower() if i < len(words)-1 else None\n",
    "\n",
    "            # Increment the co-occurrence counts\n",
    "            if left_word:\n",
    "                co_occurrence_counts[left_word] = co_occurrence_counts.get(left_word, 0) + 1\n",
    "            if right_word:\n",
    "                co_occurrence_counts[right_word] = co_occurrence_counts.get(right_word, 0) + 1\n",
    "\n",
    "    return co_occurrence_counts, target_count\n",
    "\n",
    "examine_co_occurrences(a_text, \"hash\")"
   ]
  },
  {
   "cell_type": "markdown",
   "metadata": {},
   "source": [
    "## Exercise #3\n",
    "\n",
    "<p>Use binary search to return the index of the target num</p>\n",
    "\n"
   ]
  },
  {
   "cell_type": "code",
   "execution_count": 54,
   "metadata": {},
   "outputs": [
    {
     "data": {
      "text/plain": [
       "7"
      ]
     },
     "execution_count": 54,
     "metadata": {},
     "output_type": "execute_result"
    }
   ],
   "source": [
    "cool_list = [2, 5, 6, 12, 45, 47, 98, 123, 1000]\n",
    "target = 123\n",
    "\n",
    "def binary_search(arr, t):\n",
    "    \"\"\"\n",
    "    Binary search! \n",
    "    \"\"\"\n",
    "    if t not in arr: # If the target is not in the array,\n",
    "        return -1 # the search will fail. \n",
    "    l = 0\n",
    "    r = len(arr) - 1\n",
    "\n",
    "    while l <= r:\n",
    "        mid = (l + r) // 2\n",
    "\n",
    "        if arr[mid] == t:\n",
    "            return mid\n",
    "        elif arr[mid] < t:\n",
    "            l = mid + 1\n",
    "        else:\n",
    "            r = mid - 1\n",
    "\n",
    "    return -1 # target not found\n",
    "\n",
    "binary_search(cool_list, target)\n",
    "\n"
   ]
  }
 ],
 "metadata": {
  "kernelspec": {
   "display_name": "Python 3 (ipykernel)",
   "language": "python",
   "name": "python3"
  },
  "language_info": {
   "codemirror_mode": {
    "name": "ipython",
    "version": 3
   },
   "file_extension": ".py",
   "mimetype": "text/x-python",
   "name": "python",
   "nbconvert_exporter": "python",
   "pygments_lexer": "ipython3",
   "version": "3.10.4"
  }
 },
 "nbformat": 4,
 "nbformat_minor": 2
}
